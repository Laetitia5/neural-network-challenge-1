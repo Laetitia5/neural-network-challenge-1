{
  "cells": [
    {
      "cell_type": "markdown",
      "metadata": {
        "id": "T7ZNhGcW6q6r"
      },
      "source": [
        "# Student Loan Risk with Deep Learning"
      ]
    },
    {
      "cell_type": "code",
      "execution_count": 1,
      "metadata": {
        "id": "0otrXpJc6q6u"
      },
      "outputs": [
        {
          "name": "stderr",
          "output_type": "stream",
          "text": [
            "2025-02-03 00:13:46.234982: I tensorflow/core/platform/cpu_feature_guard.cc:193] This TensorFlow binary is optimized with oneAPI Deep Neural Network Library (oneDNN) to use the following CPU instructions in performance-critical operations:  SSE4.1 SSE4.2\n",
            "To enable them in other operations, rebuild TensorFlow with the appropriate compiler flags.\n"
          ]
        }
      ],
      "source": [
        "# Imports\n",
        "import pandas as pd\n",
        "import tensorflow as tf\n",
        "from tensorflow.keras.layers import Dense\n",
        "from tensorflow.keras.models import Sequential\n",
        "from sklearn.model_selection import train_test_split\n",
        "from sklearn.preprocessing import StandardScaler\n",
        "from sklearn.metrics import classification_report\n",
        "from pathlib import Path"
      ]
    },
    {
      "cell_type": "markdown",
      "metadata": {
        "id": "OpV4Y-3Z6q6w"
      },
      "source": [
        "---\n",
        "\n",
        "## Prepare the data to be used on a neural network model"
      ]
    },
    {
      "cell_type": "markdown",
      "metadata": {
        "id": "TUuSzp2l6q6w"
      },
      "source": [
        "### Step 1: Read the `student-loans.csv` file into a Pandas DataFrame. Review the DataFrame, looking for columns that could eventually define your features and target variables.   "
      ]
    },
    {
      "cell_type": "code",
      "execution_count": 2,
      "metadata": {
        "colab": {
          "base_uri": "https://localhost:8080/",
          "height": 226
        },
        "id": "G65km1KD6q6x",
        "outputId": "93d12d8d-c415-4017-8452-5b4966e4dde5"
      },
      "outputs": [
        {
          "data": {
            "text/html": [
              "<div>\n",
              "<style scoped>\n",
              "    .dataframe tbody tr th:only-of-type {\n",
              "        vertical-align: middle;\n",
              "    }\n",
              "\n",
              "    .dataframe tbody tr th {\n",
              "        vertical-align: top;\n",
              "    }\n",
              "\n",
              "    .dataframe thead th {\n",
              "        text-align: right;\n",
              "    }\n",
              "</style>\n",
              "<table border=\"1\" class=\"dataframe\">\n",
              "  <thead>\n",
              "    <tr style=\"text-align: right;\">\n",
              "      <th></th>\n",
              "      <th>payment_history</th>\n",
              "      <th>location_parameter</th>\n",
              "      <th>stem_degree_score</th>\n",
              "      <th>gpa_ranking</th>\n",
              "      <th>alumni_success</th>\n",
              "      <th>study_major_code</th>\n",
              "      <th>time_to_completion</th>\n",
              "      <th>finance_workshop_score</th>\n",
              "      <th>cohort_ranking</th>\n",
              "      <th>total_loan_score</th>\n",
              "      <th>financial_aid_score</th>\n",
              "      <th>credit_ranking</th>\n",
              "    </tr>\n",
              "  </thead>\n",
              "  <tbody>\n",
              "    <tr>\n",
              "      <th>0</th>\n",
              "      <td>7.4</td>\n",
              "      <td>0.70</td>\n",
              "      <td>0.00</td>\n",
              "      <td>1.9</td>\n",
              "      <td>0.076</td>\n",
              "      <td>11.0</td>\n",
              "      <td>34.0</td>\n",
              "      <td>0.9978</td>\n",
              "      <td>3.51</td>\n",
              "      <td>0.56</td>\n",
              "      <td>9.4</td>\n",
              "      <td>0</td>\n",
              "    </tr>\n",
              "    <tr>\n",
              "      <th>1</th>\n",
              "      <td>7.8</td>\n",
              "      <td>0.88</td>\n",
              "      <td>0.00</td>\n",
              "      <td>2.6</td>\n",
              "      <td>0.098</td>\n",
              "      <td>25.0</td>\n",
              "      <td>67.0</td>\n",
              "      <td>0.9968</td>\n",
              "      <td>3.20</td>\n",
              "      <td>0.68</td>\n",
              "      <td>9.8</td>\n",
              "      <td>0</td>\n",
              "    </tr>\n",
              "    <tr>\n",
              "      <th>2</th>\n",
              "      <td>7.8</td>\n",
              "      <td>0.76</td>\n",
              "      <td>0.04</td>\n",
              "      <td>2.3</td>\n",
              "      <td>0.092</td>\n",
              "      <td>15.0</td>\n",
              "      <td>54.0</td>\n",
              "      <td>0.9970</td>\n",
              "      <td>3.26</td>\n",
              "      <td>0.65</td>\n",
              "      <td>9.8</td>\n",
              "      <td>0</td>\n",
              "    </tr>\n",
              "    <tr>\n",
              "      <th>3</th>\n",
              "      <td>11.2</td>\n",
              "      <td>0.28</td>\n",
              "      <td>0.56</td>\n",
              "      <td>1.9</td>\n",
              "      <td>0.075</td>\n",
              "      <td>17.0</td>\n",
              "      <td>60.0</td>\n",
              "      <td>0.9980</td>\n",
              "      <td>3.16</td>\n",
              "      <td>0.58</td>\n",
              "      <td>9.8</td>\n",
              "      <td>1</td>\n",
              "    </tr>\n",
              "    <tr>\n",
              "      <th>4</th>\n",
              "      <td>7.4</td>\n",
              "      <td>0.70</td>\n",
              "      <td>0.00</td>\n",
              "      <td>1.9</td>\n",
              "      <td>0.076</td>\n",
              "      <td>11.0</td>\n",
              "      <td>34.0</td>\n",
              "      <td>0.9978</td>\n",
              "      <td>3.51</td>\n",
              "      <td>0.56</td>\n",
              "      <td>9.4</td>\n",
              "      <td>0</td>\n",
              "    </tr>\n",
              "  </tbody>\n",
              "</table>\n",
              "</div>"
            ],
            "text/plain": [
              "   payment_history  location_parameter  stem_degree_score  gpa_ranking  \\\n",
              "0              7.4                0.70               0.00          1.9   \n",
              "1              7.8                0.88               0.00          2.6   \n",
              "2              7.8                0.76               0.04          2.3   \n",
              "3             11.2                0.28               0.56          1.9   \n",
              "4              7.4                0.70               0.00          1.9   \n",
              "\n",
              "   alumni_success  study_major_code  time_to_completion  \\\n",
              "0           0.076              11.0                34.0   \n",
              "1           0.098              25.0                67.0   \n",
              "2           0.092              15.0                54.0   \n",
              "3           0.075              17.0                60.0   \n",
              "4           0.076              11.0                34.0   \n",
              "\n",
              "   finance_workshop_score  cohort_ranking  total_loan_score  \\\n",
              "0                  0.9978            3.51              0.56   \n",
              "1                  0.9968            3.20              0.68   \n",
              "2                  0.9970            3.26              0.65   \n",
              "3                  0.9980            3.16              0.58   \n",
              "4                  0.9978            3.51              0.56   \n",
              "\n",
              "   financial_aid_score  credit_ranking  \n",
              "0                  9.4               0  \n",
              "1                  9.8               0  \n",
              "2                  9.8               0  \n",
              "3                  9.8               1  \n",
              "4                  9.4               0  "
            ]
          },
          "execution_count": 2,
          "metadata": {},
          "output_type": "execute_result"
        }
      ],
      "source": [
        "# Read the csv into a Pandas DataFrame\n",
        "file_path = \"https://static.bc-edx.com/ai/ail-v-1-0/m18/lms/datasets/student-loans.csv\"\n",
        "loans_df = pd.read_csv(file_path)\n",
        "\n",
        "# Review the DataFrame\n",
        "loans_df.head()"
      ]
    },
    {
      "cell_type": "code",
      "execution_count": 3,
      "metadata": {
        "colab": {
          "base_uri": "https://localhost:8080/"
        },
        "id": "K8ZYB8wx6q6x",
        "outputId": "b509fc34-4488-406e-e451-2069fec37371"
      },
      "outputs": [
        {
          "data": {
            "text/plain": [
              "payment_history           float64\n",
              "location_parameter        float64\n",
              "stem_degree_score         float64\n",
              "gpa_ranking               float64\n",
              "alumni_success            float64\n",
              "study_major_code          float64\n",
              "time_to_completion        float64\n",
              "finance_workshop_score    float64\n",
              "cohort_ranking            float64\n",
              "total_loan_score          float64\n",
              "financial_aid_score       float64\n",
              "credit_ranking              int64\n",
              "dtype: object"
            ]
          },
          "execution_count": 3,
          "metadata": {},
          "output_type": "execute_result"
        }
      ],
      "source": [
        "# Review the data types associated with the columns\n",
        "loans_df.dtypes"
      ]
    },
    {
      "cell_type": "code",
      "execution_count": 4,
      "metadata": {
        "colab": {
          "base_uri": "https://localhost:8080/"
        },
        "id": "9P8aX-dW75JO",
        "outputId": "63251fa8-5ac1-4112-c2f7-bc5d97ea8491"
      },
      "outputs": [
        {
          "data": {
            "text/plain": [
              "credit_ranking\n",
              "1    855\n",
              "0    744\n",
              "Name: count, dtype: int64"
            ]
          },
          "execution_count": 4,
          "metadata": {},
          "output_type": "execute_result"
        }
      ],
      "source": [
        "# Check the credit_ranking value counts\n",
        "loans_df[\"credit_ranking\"].value_counts()"
      ]
    },
    {
      "cell_type": "markdown",
      "metadata": {
        "id": "R6vbZeDH6q6y"
      },
      "source": [
        "### Step 2: Using the preprocessed data, create the features (`X`) and target (`y`) datasets. The target dataset should be defined by the preprocessed DataFrame column “credit_ranking”. The remaining columns should define the features dataset."
      ]
    },
    {
      "cell_type": "code",
      "execution_count": 5,
      "metadata": {
        "colab": {
          "base_uri": "https://localhost:8080/"
        },
        "id": "Q5eVAP5M6q6y",
        "outputId": "89728bbf-6930-4573-a126-9f1b66ed8859"
      },
      "outputs": [
        {
          "data": {
            "text/plain": [
              "0    0\n",
              "1    0\n",
              "2    0\n",
              "3    1\n",
              "4    0\n",
              "Name: credit_ranking, dtype: int64"
            ]
          },
          "execution_count": 5,
          "metadata": {},
          "output_type": "execute_result"
        }
      ],
      "source": [
        "# Define the target set y using the credit_ranking column\n",
        "y = loans_df[\"credit_ranking\"]\n",
        "\n",
        "# Display a sample of y\n",
        "y.head()"
      ]
    },
    {
      "cell_type": "code",
      "execution_count": 6,
      "metadata": {
        "colab": {
          "base_uri": "https://localhost:8080/",
          "height": 226
        },
        "id": "IIkrD2Sn6q6z",
        "outputId": "ce07c4a3-fb81-4657-d11e-ec85ae8554c9"
      },
      "outputs": [
        {
          "data": {
            "text/html": [
              "<div>\n",
              "<style scoped>\n",
              "    .dataframe tbody tr th:only-of-type {\n",
              "        vertical-align: middle;\n",
              "    }\n",
              "\n",
              "    .dataframe tbody tr th {\n",
              "        vertical-align: top;\n",
              "    }\n",
              "\n",
              "    .dataframe thead th {\n",
              "        text-align: right;\n",
              "    }\n",
              "</style>\n",
              "<table border=\"1\" class=\"dataframe\">\n",
              "  <thead>\n",
              "    <tr style=\"text-align: right;\">\n",
              "      <th></th>\n",
              "      <th>payment_history</th>\n",
              "      <th>location_parameter</th>\n",
              "      <th>stem_degree_score</th>\n",
              "      <th>gpa_ranking</th>\n",
              "      <th>alumni_success</th>\n",
              "      <th>study_major_code</th>\n",
              "      <th>time_to_completion</th>\n",
              "      <th>finance_workshop_score</th>\n",
              "      <th>cohort_ranking</th>\n",
              "      <th>total_loan_score</th>\n",
              "      <th>financial_aid_score</th>\n",
              "    </tr>\n",
              "  </thead>\n",
              "  <tbody>\n",
              "    <tr>\n",
              "      <th>0</th>\n",
              "      <td>7.4</td>\n",
              "      <td>0.70</td>\n",
              "      <td>0.00</td>\n",
              "      <td>1.9</td>\n",
              "      <td>0.076</td>\n",
              "      <td>11.0</td>\n",
              "      <td>34.0</td>\n",
              "      <td>0.9978</td>\n",
              "      <td>3.51</td>\n",
              "      <td>0.56</td>\n",
              "      <td>9.4</td>\n",
              "    </tr>\n",
              "    <tr>\n",
              "      <th>1</th>\n",
              "      <td>7.8</td>\n",
              "      <td>0.88</td>\n",
              "      <td>0.00</td>\n",
              "      <td>2.6</td>\n",
              "      <td>0.098</td>\n",
              "      <td>25.0</td>\n",
              "      <td>67.0</td>\n",
              "      <td>0.9968</td>\n",
              "      <td>3.20</td>\n",
              "      <td>0.68</td>\n",
              "      <td>9.8</td>\n",
              "    </tr>\n",
              "    <tr>\n",
              "      <th>2</th>\n",
              "      <td>7.8</td>\n",
              "      <td>0.76</td>\n",
              "      <td>0.04</td>\n",
              "      <td>2.3</td>\n",
              "      <td>0.092</td>\n",
              "      <td>15.0</td>\n",
              "      <td>54.0</td>\n",
              "      <td>0.9970</td>\n",
              "      <td>3.26</td>\n",
              "      <td>0.65</td>\n",
              "      <td>9.8</td>\n",
              "    </tr>\n",
              "    <tr>\n",
              "      <th>3</th>\n",
              "      <td>11.2</td>\n",
              "      <td>0.28</td>\n",
              "      <td>0.56</td>\n",
              "      <td>1.9</td>\n",
              "      <td>0.075</td>\n",
              "      <td>17.0</td>\n",
              "      <td>60.0</td>\n",
              "      <td>0.9980</td>\n",
              "      <td>3.16</td>\n",
              "      <td>0.58</td>\n",
              "      <td>9.8</td>\n",
              "    </tr>\n",
              "    <tr>\n",
              "      <th>4</th>\n",
              "      <td>7.4</td>\n",
              "      <td>0.70</td>\n",
              "      <td>0.00</td>\n",
              "      <td>1.9</td>\n",
              "      <td>0.076</td>\n",
              "      <td>11.0</td>\n",
              "      <td>34.0</td>\n",
              "      <td>0.9978</td>\n",
              "      <td>3.51</td>\n",
              "      <td>0.56</td>\n",
              "      <td>9.4</td>\n",
              "    </tr>\n",
              "  </tbody>\n",
              "</table>\n",
              "</div>"
            ],
            "text/plain": [
              "   payment_history  location_parameter  stem_degree_score  gpa_ranking  \\\n",
              "0              7.4                0.70               0.00          1.9   \n",
              "1              7.8                0.88               0.00          2.6   \n",
              "2              7.8                0.76               0.04          2.3   \n",
              "3             11.2                0.28               0.56          1.9   \n",
              "4              7.4                0.70               0.00          1.9   \n",
              "\n",
              "   alumni_success  study_major_code  time_to_completion  \\\n",
              "0           0.076              11.0                34.0   \n",
              "1           0.098              25.0                67.0   \n",
              "2           0.092              15.0                54.0   \n",
              "3           0.075              17.0                60.0   \n",
              "4           0.076              11.0                34.0   \n",
              "\n",
              "   finance_workshop_score  cohort_ranking  total_loan_score  \\\n",
              "0                  0.9978            3.51              0.56   \n",
              "1                  0.9968            3.20              0.68   \n",
              "2                  0.9970            3.26              0.65   \n",
              "3                  0.9980            3.16              0.58   \n",
              "4                  0.9978            3.51              0.56   \n",
              "\n",
              "   financial_aid_score  \n",
              "0                  9.4  \n",
              "1                  9.8  \n",
              "2                  9.8  \n",
              "3                  9.8  \n",
              "4                  9.4  "
            ]
          },
          "execution_count": 6,
          "metadata": {},
          "output_type": "execute_result"
        }
      ],
      "source": [
        "# Define features set X by selecting all columns but credit_ranking\n",
        "X = loans_df.drop(columns=\"credit_ranking\")\n",
        "\n",
        "# Review the features DataFrame\n",
        "X.head()"
      ]
    },
    {
      "cell_type": "markdown",
      "metadata": {
        "id": "QmM9c-tj6q6z"
      },
      "source": [
        "### Step 3: Split the features and target sets into training and testing datasets.\n"
      ]
    },
    {
      "cell_type": "code",
      "execution_count": 7,
      "metadata": {
        "id": "OD7xwU_96q6z"
      },
      "outputs": [],
      "source": [
        "# Split the preprocessed data into a training and testing dataset\n",
        "# Assign the function a random_state equal to 1\n",
        "X_train, X_test, y_train, y_test = train_test_split(X, y, random_state=1)"
      ]
    },
    {
      "cell_type": "markdown",
      "metadata": {
        "id": "G9i6DHY06q6z"
      },
      "source": [
        "### Step 4: Use scikit-learn's `StandardScaler` to scale the features data."
      ]
    },
    {
      "cell_type": "code",
      "execution_count": 8,
      "metadata": {
        "id": "BzD3z20m6q6z"
      },
      "outputs": [],
      "source": [
        "# Create a StandardScaler instance\n",
        "X_scaler = StandardScaler()\n",
        "\n",
        "# Fit the scaler to the features training dataset\n",
        "X_scaler.fit(X_train)\n",
        "\n",
        "# Fit the scaler to the features training dataset\n",
        "X_train_scaled = X_scaler.transform(X_train)\n",
        "X_test_scaled = X_scaler.transform(X_test)"
      ]
    },
    {
      "cell_type": "markdown",
      "metadata": {
        "id": "CZzVDjba6q6z"
      },
      "source": [
        "---\n",
        "\n",
        "## Compile and Evaluate a Model Using a Neural Network"
      ]
    },
    {
      "cell_type": "markdown",
      "metadata": {
        "id": "m-pSux4Q6q60"
      },
      "source": [
        "### Step 1: Create a deep neural network by assigning the number of input features, the number of layers, and the number of neurons on each layer using Tensorflow’s Keras.\n",
        "\n",
        "> **Hint** You can start with a two-layer deep neural network model that uses the `relu` activation function for both layers.\n"
      ]
    },
    {
      "cell_type": "code",
      "execution_count": 11,
      "metadata": {
        "colab": {
          "base_uri": "https://localhost:8080/"
        },
        "id": "t5C94FCd6q60",
        "outputId": "cbf05783-2f56-4745-cd33-649a6152e510"
      },
      "outputs": [
        {
          "data": {
            "text/plain": [
              "11"
            ]
          },
          "execution_count": 11,
          "metadata": {},
          "output_type": "execute_result"
        }
      ],
      "source": [
        "# Define the number of inputs (features) to the model\n",
        "input_nodes = len(X.columns)\n",
        "\n",
        "# Review the number of features\n",
        "input_nodes"
      ]
    },
    {
      "cell_type": "code",
      "execution_count": 10,
      "metadata": {
        "id": "c_KXDLkF6q60"
      },
      "outputs": [],
      "source": [
        "# Define the number of hidden nodes for the first hidden layer\n",
        "units_1 = 6  \n",
        "\n",
        "# Define the number of hidden nodes for the second hidden layer\n",
        "units_2 = 3\n",
        "\n",
        "# Define the number of neurons in the output layer\n",
        "units_3 = 1"
      ]
    },
    {
      "cell_type": "code",
      "execution_count": 11,
      "metadata": {
        "id": "63UdFncw6q60"
      },
      "outputs": [
        {
          "name": "stderr",
          "output_type": "stream",
          "text": [
            "2025-02-02 15:19:10.140132: I tensorflow/core/platform/cpu_feature_guard.cc:193] This TensorFlow binary is optimized with oneAPI Deep Neural Network Library (oneDNN) to use the following CPU instructions in performance-critical operations:  SSE4.1 SSE4.2\n",
            "To enable them in other operations, rebuild TensorFlow with the appropriate compiler flags.\n"
          ]
        }
      ],
      "source": [
        "# Create the Sequential model instance\n",
        "nn_model = tf.keras.models.Sequential()\n",
        "\n",
        "# Add the first hidden layer\n",
        "nn_model .add(tf.keras.layers.Dense(units=units_1, activation=\"relu\",input_dim=input_nodes))\n",
        "\n",
        "\n",
        "# Add the second hidden layer\n",
        "nn_model.add(tf.keras.layers.Dense(units=units_2, activation=\"relu\"))\n",
        "\n",
        "# Add the output layer to the model specifying the number of output neurons and activation function\n",
        "nn_model.add(tf.keras.layers.Dense(units=units_3, activation=\"sigmoid\"))"
      ]
    },
    {
      "cell_type": "code",
      "execution_count": 12,
      "metadata": {
        "colab": {
          "base_uri": "https://localhost:8080/"
        },
        "id": "-Beoh4f_6q61",
        "outputId": "2e50f810-086b-4d89-bf7d-98afbe0d649d"
      },
      "outputs": [
        {
          "name": "stdout",
          "output_type": "stream",
          "text": [
            "Model: \"sequential\"\n",
            "_________________________________________________________________\n",
            " Layer (type)                Output Shape              Param #   \n",
            "=================================================================\n",
            " dense (Dense)               (None, 6)                 72        \n",
            "                                                                 \n",
            " dense_1 (Dense)             (None, 3)                 21        \n",
            "                                                                 \n",
            " dense_2 (Dense)             (None, 1)                 4         \n",
            "                                                                 \n",
            "=================================================================\n",
            "Total params: 97\n",
            "Trainable params: 97\n",
            "Non-trainable params: 0\n",
            "_________________________________________________________________\n"
          ]
        }
      ],
      "source": [
        "# Display the Sequential model summary\n",
        "nn_model.summary()"
      ]
    },
    {
      "cell_type": "markdown",
      "metadata": {
        "id": "nRqWGIRo6q61"
      },
      "source": [
        "### Step 2: Compile and fit the model using the `binary_crossentropy` loss function, the `adam` optimizer, and the `accuracy` evaluation metric.\n"
      ]
    },
    {
      "cell_type": "code",
      "execution_count": 13,
      "metadata": {
        "id": "E-hZaeSn6q61"
      },
      "outputs": [],
      "source": [
        "# Compile the Sequential model\n",
        "nn_model.compile(loss=\"binary_crossentropy\", optimizer=\"adam\", metrics=[\"accuracy\"])"
      ]
    },
    {
      "cell_type": "code",
      "execution_count": 14,
      "metadata": {
        "colab": {
          "base_uri": "https://localhost:8080/"
        },
        "id": "x25e8Idc6q61",
        "outputId": "e95946ba-23da-47a3-a1c1-5e9a2a484a47"
      },
      "outputs": [
        {
          "name": "stdout",
          "output_type": "stream",
          "text": [
            "Epoch 1/50\n",
            "38/38 [==============================] - 1s 2ms/step - loss: 0.6979 - accuracy: 0.5354\n",
            "Epoch 2/50\n",
            "38/38 [==============================] - 0s 721us/step - loss: 0.6790 - accuracy: 0.5813\n",
            "Epoch 3/50\n",
            "38/38 [==============================] - 0s 711us/step - loss: 0.6646 - accuracy: 0.6389\n",
            "Epoch 4/50\n",
            "38/38 [==============================] - 0s 709us/step - loss: 0.6515 - accuracy: 0.6706\n",
            "Epoch 5/50\n",
            "38/38 [==============================] - 0s 707us/step - loss: 0.6371 - accuracy: 0.6889\n",
            "Epoch 6/50\n",
            "38/38 [==============================] - 0s 1ms/step - loss: 0.6211 - accuracy: 0.7031\n",
            "Epoch 7/50\n",
            "38/38 [==============================] - 0s 705us/step - loss: 0.6046 - accuracy: 0.7123\n",
            "Epoch 8/50\n",
            "38/38 [==============================] - 0s 707us/step - loss: 0.5896 - accuracy: 0.7164\n",
            "Epoch 9/50\n",
            "38/38 [==============================] - 0s 694us/step - loss: 0.5750 - accuracy: 0.7281\n",
            "Epoch 10/50\n",
            "38/38 [==============================] - 0s 703us/step - loss: 0.5624 - accuracy: 0.7273\n",
            "Epoch 11/50\n",
            "38/38 [==============================] - 0s 711us/step - loss: 0.5521 - accuracy: 0.7339\n",
            "Epoch 12/50\n",
            "38/38 [==============================] - 0s 696us/step - loss: 0.5436 - accuracy: 0.7348\n",
            "Epoch 13/50\n",
            "38/38 [==============================] - 0s 692us/step - loss: 0.5375 - accuracy: 0.7348\n",
            "Epoch 14/50\n",
            "38/38 [==============================] - 0s 696us/step - loss: 0.5326 - accuracy: 0.7331\n",
            "Epoch 15/50\n",
            "38/38 [==============================] - 0s 704us/step - loss: 0.5289 - accuracy: 0.7356\n",
            "Epoch 16/50\n",
            "38/38 [==============================] - 0s 696us/step - loss: 0.5256 - accuracy: 0.7406\n",
            "Epoch 17/50\n",
            "38/38 [==============================] - 0s 874us/step - loss: 0.5226 - accuracy: 0.7398\n",
            "Epoch 18/50\n",
            "38/38 [==============================] - 0s 696us/step - loss: 0.5197 - accuracy: 0.7456\n",
            "Epoch 19/50\n",
            "38/38 [==============================] - 0s 683us/step - loss: 0.5169 - accuracy: 0.7456\n",
            "Epoch 20/50\n",
            "38/38 [==============================] - 0s 695us/step - loss: 0.5144 - accuracy: 0.7481\n",
            "Epoch 21/50\n",
            "38/38 [==============================] - 0s 695us/step - loss: 0.5116 - accuracy: 0.7456\n",
            "Epoch 22/50\n",
            "38/38 [==============================] - 0s 690us/step - loss: 0.5099 - accuracy: 0.7415\n",
            "Epoch 23/50\n",
            "38/38 [==============================] - 0s 690us/step - loss: 0.5074 - accuracy: 0.7415\n",
            "Epoch 24/50\n",
            "38/38 [==============================] - 0s 698us/step - loss: 0.5048 - accuracy: 0.7440\n",
            "Epoch 25/50\n",
            "38/38 [==============================] - 0s 701us/step - loss: 0.5028 - accuracy: 0.7431\n",
            "Epoch 26/50\n",
            "38/38 [==============================] - 0s 687us/step - loss: 0.5004 - accuracy: 0.7490\n",
            "Epoch 27/50\n",
            "38/38 [==============================] - 0s 692us/step - loss: 0.4987 - accuracy: 0.7473\n",
            "Epoch 28/50\n",
            "38/38 [==============================] - 0s 1ms/step - loss: 0.4968 - accuracy: 0.7515\n",
            "Epoch 29/50\n",
            "38/38 [==============================] - 0s 694us/step - loss: 0.4951 - accuracy: 0.7515\n",
            "Epoch 30/50\n",
            "38/38 [==============================] - 0s 685us/step - loss: 0.4936 - accuracy: 0.7515\n",
            "Epoch 31/50\n",
            "38/38 [==============================] - 0s 694us/step - loss: 0.4921 - accuracy: 0.7548\n",
            "Epoch 32/50\n",
            "38/38 [==============================] - 0s 685us/step - loss: 0.4909 - accuracy: 0.7548\n",
            "Epoch 33/50\n",
            "38/38 [==============================] - 0s 688us/step - loss: 0.4896 - accuracy: 0.7565\n",
            "Epoch 34/50\n",
            "38/38 [==============================] - 0s 686us/step - loss: 0.4880 - accuracy: 0.7548\n",
            "Epoch 35/50\n",
            "38/38 [==============================] - 0s 691us/step - loss: 0.4872 - accuracy: 0.7565\n",
            "Epoch 36/50\n",
            "38/38 [==============================] - 0s 688us/step - loss: 0.4860 - accuracy: 0.7573\n",
            "Epoch 37/50\n",
            "38/38 [==============================] - 0s 689us/step - loss: 0.4849 - accuracy: 0.7590\n",
            "Epoch 38/50\n",
            "38/38 [==============================] - 0s 690us/step - loss: 0.4841 - accuracy: 0.7598\n",
            "Epoch 39/50\n",
            "38/38 [==============================] - 0s 1ms/step - loss: 0.4830 - accuracy: 0.7598\n",
            "Epoch 40/50\n",
            "38/38 [==============================] - 0s 695us/step - loss: 0.4821 - accuracy: 0.7615\n",
            "Epoch 41/50\n",
            "38/38 [==============================] - 0s 686us/step - loss: 0.4823 - accuracy: 0.7598\n",
            "Epoch 42/50\n",
            "38/38 [==============================] - 0s 682us/step - loss: 0.4809 - accuracy: 0.7615\n",
            "Epoch 43/50\n",
            "38/38 [==============================] - 0s 690us/step - loss: 0.4803 - accuracy: 0.7623\n",
            "Epoch 44/50\n",
            "38/38 [==============================] - 0s 697us/step - loss: 0.4800 - accuracy: 0.7640\n",
            "Epoch 45/50\n",
            "38/38 [==============================] - 0s 685us/step - loss: 0.4789 - accuracy: 0.7615\n",
            "Epoch 46/50\n",
            "38/38 [==============================] - 0s 698us/step - loss: 0.4782 - accuracy: 0.7631\n",
            "Epoch 47/50\n",
            "38/38 [==============================] - 0s 696us/step - loss: 0.4777 - accuracy: 0.7656\n",
            "Epoch 48/50\n",
            "38/38 [==============================] - 0s 694us/step - loss: 0.4771 - accuracy: 0.7615\n",
            "Epoch 49/50\n",
            "38/38 [==============================] - 0s 1ms/step - loss: 0.4766 - accuracy: 0.7598\n",
            "Epoch 50/50\n",
            "38/38 [==============================] - 0s 696us/step - loss: 0.4759 - accuracy: 0.7631\n"
          ]
        }
      ],
      "source": [
        "# Fit the model using 50 epochs and the training data\n",
        "fit_model = nn_model.fit(X_train_scaled,y_train,epochs=50)"
      ]
    },
    {
      "cell_type": "markdown",
      "metadata": {
        "id": "RfHMPZVI6q61"
      },
      "source": [
        "### Step 3: Evaluate the model using the test data to determine the model’s loss and accuracy.\n"
      ]
    },
    {
      "cell_type": "code",
      "execution_count": 15,
      "metadata": {
        "colab": {
          "base_uri": "https://localhost:8080/"
        },
        "id": "5hfVADKo6q61",
        "outputId": "7df473ad-3301-4b49-e5c3-16e1687cc1cf"
      },
      "outputs": [
        {
          "name": "stdout",
          "output_type": "stream",
          "text": [
            "13/13 - 0s - loss: 0.5047 - accuracy: 0.7525 - 203ms/epoch - 16ms/step\n",
            "Loss: 0.5047008991241455, Accuracy: 0.7524999976158142\n"
          ]
        }
      ],
      "source": [
        "# Evaluate the model loss and accuracy metrics using the evaluate method and the test data\n",
        "model_loss, model_accuracy = nn_model.evaluate(X_test_scaled,y_test,verbose=2)\n",
        "\n",
        "# Display the model loss and accuracy results\n",
        "print(f\"Loss: {model_loss}, Accuracy: {model_accuracy}\")"
      ]
    },
    {
      "cell_type": "markdown",
      "metadata": {
        "id": "jpAv0rXA6q61"
      },
      "source": [
        "### Step 4: Save and export your model to a keras file, and name the file `student_loans.keras`.\n"
      ]
    },
    {
      "cell_type": "code",
      "execution_count": 16,
      "metadata": {
        "id": "q0MetN0W6q61"
      },
      "outputs": [],
      "source": [
        "# Set the model's file path\n",
        "file_path = Path(\"saved_models/student_loans.keras\")\n",
        "\n",
        "# Export your model to a keras file\n",
        "nn_model.save(file_path)"
      ]
    },
    {
      "cell_type": "markdown",
      "metadata": {
        "id": "R1opCDdN6q61"
      },
      "source": [
        "---\n",
        "## Predict Loan Repayment Success by Using your Neural Network Model"
      ]
    },
    {
      "cell_type": "markdown",
      "metadata": {
        "id": "TfIfpeiy6q61"
      },
      "source": [
        "### Step 1: Reload your saved model."
      ]
    },
    {
      "cell_type": "code",
      "execution_count": 17,
      "metadata": {
        "id": "OCET2mvW6q61"
      },
      "outputs": [],
      "source": [
        "# Set the model's file path\n",
        "file_path = Path(\"saved_models/student_loans.keras\")\n",
        "\n",
        "# Load the model to a new object\n",
        "nn_model_loaded = tf.keras.models.load_model(file_path)\n"
      ]
    },
    {
      "cell_type": "markdown",
      "metadata": {
        "id": "rTPKooGw6q61"
      },
      "source": [
        "### Step 2: Make predictions on the testing data and save the predictions to a DataFrame."
      ]
    },
    {
      "cell_type": "code",
      "execution_count": 18,
      "metadata": {
        "colab": {
          "base_uri": "https://localhost:8080/"
        },
        "id": "Vet7qjgx6q62",
        "outputId": "0925af42-7e12-4978-8396-2a2c1580e1eb"
      },
      "outputs": [
        {
          "name": "stdout",
          "output_type": "stream",
          "text": [
            "13/13 - 0s - 89ms/epoch - 7ms/step\n"
          ]
        },
        {
          "data": {
            "text/plain": [
              "array([[0.5052317 ],\n",
              "       [0.3437225 ],\n",
              "       [0.8883964 ],\n",
              "       [0.77283704],\n",
              "       [0.98012084],\n",
              "       [0.8739063 ],\n",
              "       [0.90766317],\n",
              "       [0.09429058],\n",
              "       [0.7184304 ],\n",
              "       [0.36808088],\n",
              "       [0.95148325],\n",
              "       [0.19124271],\n",
              "       [0.5042538 ],\n",
              "       [0.90297556],\n",
              "       [0.47025922],\n",
              "       [0.362106  ],\n",
              "       [0.89687234],\n",
              "       [0.3750273 ],\n",
              "       [0.6602882 ],\n",
              "       [0.35699323],\n",
              "       [0.68745023],\n",
              "       [0.8782909 ],\n",
              "       [0.24887078],\n",
              "       [0.88707143],\n",
              "       [0.38698328],\n",
              "       [0.96029973],\n",
              "       [0.8684692 ],\n",
              "       [0.685932  ],\n",
              "       [0.44218758],\n",
              "       [0.32997218],\n",
              "       [0.5110096 ],\n",
              "       [0.94872165],\n",
              "       [0.2485539 ],\n",
              "       [0.9373096 ],\n",
              "       [0.3615316 ],\n",
              "       [0.64757645],\n",
              "       [0.2591661 ],\n",
              "       [0.3167368 ],\n",
              "       [0.96168077],\n",
              "       [0.1281038 ],\n",
              "       [0.9085083 ],\n",
              "       [0.07011537],\n",
              "       [0.05679709],\n",
              "       [0.92981523],\n",
              "       [0.07116802],\n",
              "       [0.75294167],\n",
              "       [0.16581705],\n",
              "       [0.41242078],\n",
              "       [0.3659803 ],\n",
              "       [0.8524196 ],\n",
              "       [0.0767065 ],\n",
              "       [0.19499345],\n",
              "       [0.912722  ],\n",
              "       [0.08228847],\n",
              "       [0.2505492 ],\n",
              "       [0.68139654],\n",
              "       [0.8766194 ],\n",
              "       [0.6329863 ],\n",
              "       [0.7572829 ],\n",
              "       [0.13712634],\n",
              "       [0.8537132 ],\n",
              "       [0.14550516],\n",
              "       [0.2976988 ],\n",
              "       [0.42239878],\n",
              "       [0.04790615],\n",
              "       [0.37818372],\n",
              "       [0.8650563 ],\n",
              "       [0.3856627 ],\n",
              "       [0.7037269 ],\n",
              "       [0.9658859 ],\n",
              "       [0.3615316 ],\n",
              "       [0.9075102 ],\n",
              "       [0.59707516],\n",
              "       [0.7289489 ],\n",
              "       [0.17620064],\n",
              "       [0.32763842],\n",
              "       [0.900422  ],\n",
              "       [0.08776215],\n",
              "       [0.17675762],\n",
              "       [0.805697  ],\n",
              "       [0.8200541 ],\n",
              "       [0.18250905],\n",
              "       [0.10142397],\n",
              "       [0.51234823],\n",
              "       [0.62145853],\n",
              "       [0.13943067],\n",
              "       [0.17448659],\n",
              "       [0.8651988 ],\n",
              "       [0.30832753],\n",
              "       [0.7695967 ],\n",
              "       [0.27493078],\n",
              "       [0.9379235 ],\n",
              "       [0.1692442 ],\n",
              "       [0.9342795 ],\n",
              "       [0.7074857 ],\n",
              "       [0.36341095],\n",
              "       [0.7738242 ],\n",
              "       [0.57202405],\n",
              "       [0.32604676],\n",
              "       [0.9432973 ],\n",
              "       [0.526568  ],\n",
              "       [0.26253584],\n",
              "       [0.12539925],\n",
              "       [0.22499189],\n",
              "       [0.123255  ],\n",
              "       [0.39829734],\n",
              "       [0.7234923 ],\n",
              "       [0.38605803],\n",
              "       [0.8647363 ],\n",
              "       [0.19928066],\n",
              "       [0.98020434],\n",
              "       [0.68347377],\n",
              "       [0.92393875],\n",
              "       [0.28459707],\n",
              "       [0.32026765],\n",
              "       [0.9795712 ],\n",
              "       [0.26339096],\n",
              "       [0.09186755],\n",
              "       [0.21444267],\n",
              "       [0.17972422],\n",
              "       [0.0828248 ],\n",
              "       [0.9720271 ],\n",
              "       [0.969293  ],\n",
              "       [0.22092615],\n",
              "       [0.31009445],\n",
              "       [0.5205775 ],\n",
              "       [0.6990544 ],\n",
              "       [0.2909399 ],\n",
              "       [0.6890836 ],\n",
              "       [0.7559056 ],\n",
              "       [0.33546317],\n",
              "       [0.27068895],\n",
              "       [0.9382206 ],\n",
              "       [0.18697192],\n",
              "       [0.83665305],\n",
              "       [0.81553537],\n",
              "       [0.07972007],\n",
              "       [0.9621481 ],\n",
              "       [0.34735593],\n",
              "       [0.30142835],\n",
              "       [0.24589644],\n",
              "       [0.62349033],\n",
              "       [0.48227197],\n",
              "       [0.1987676 ],\n",
              "       [0.7084145 ],\n",
              "       [0.95466304],\n",
              "       [0.5006378 ],\n",
              "       [0.14197847],\n",
              "       [0.69409114],\n",
              "       [0.8845331 ],\n",
              "       [0.53551424],\n",
              "       [0.9637046 ],\n",
              "       [0.25438958],\n",
              "       [0.32489341],\n",
              "       [0.87405235],\n",
              "       [0.89356625],\n",
              "       [0.91800034],\n",
              "       [0.9306737 ],\n",
              "       [0.7863664 ],\n",
              "       [0.7104118 ],\n",
              "       [0.8841169 ],\n",
              "       [0.6952614 ],\n",
              "       [0.41367775],\n",
              "       [0.23951365],\n",
              "       [0.95719945],\n",
              "       [0.8896733 ],\n",
              "       [0.43867365],\n",
              "       [0.14492399],\n",
              "       [0.16797905],\n",
              "       [0.8076725 ],\n",
              "       [0.27377176],\n",
              "       [0.8749715 ],\n",
              "       [0.26431456],\n",
              "       [0.60547495],\n",
              "       [0.92698497],\n",
              "       [0.3137918 ],\n",
              "       [0.34341258],\n",
              "       [0.22707866],\n",
              "       [0.32077196],\n",
              "       [0.36341095],\n",
              "       [0.6969415 ],\n",
              "       [0.78597444],\n",
              "       [0.665137  ],\n",
              "       [0.04287466],\n",
              "       [0.9590946 ],\n",
              "       [0.9917781 ],\n",
              "       [0.96137834],\n",
              "       [0.51996195],\n",
              "       [0.4420071 ],\n",
              "       [0.15738374],\n",
              "       [0.14273171],\n",
              "       [0.7339965 ],\n",
              "       [0.36985624],\n",
              "       [0.56613815],\n",
              "       [0.766304  ],\n",
              "       [0.31723103],\n",
              "       [0.5222323 ],\n",
              "       [0.09091744],\n",
              "       [0.20592743],\n",
              "       [0.26898655],\n",
              "       [0.9240018 ],\n",
              "       [0.28831595],\n",
              "       [0.91748846],\n",
              "       [0.21550286],\n",
              "       [0.97407365],\n",
              "       [0.70977587],\n",
              "       [0.25306866],\n",
              "       [0.11249575],\n",
              "       [0.8491732 ],\n",
              "       [0.6848672 ],\n",
              "       [0.30206925],\n",
              "       [0.761758  ],\n",
              "       [0.12539925],\n",
              "       [0.9449003 ],\n",
              "       [0.25318977],\n",
              "       [0.20158413],\n",
              "       [0.13115072],\n",
              "       [0.18181781],\n",
              "       [0.8532679 ],\n",
              "       [0.5481163 ],\n",
              "       [0.54580337],\n",
              "       [0.25239477],\n",
              "       [0.18733428],\n",
              "       [0.21263517],\n",
              "       [0.82580876],\n",
              "       [0.7041499 ],\n",
              "       [0.5787777 ],\n",
              "       [0.65962696],\n",
              "       [0.9733965 ],\n",
              "       [0.53114396],\n",
              "       [0.28590813],\n",
              "       [0.29273954],\n",
              "       [0.9242146 ],\n",
              "       [0.9261753 ],\n",
              "       [0.24433987],\n",
              "       [0.6580422 ],\n",
              "       [0.9475644 ],\n",
              "       [0.19548719],\n",
              "       [0.34374192],\n",
              "       [0.47957504],\n",
              "       [0.85290635],\n",
              "       [0.8933845 ],\n",
              "       [0.74280113],\n",
              "       [0.45354745],\n",
              "       [0.7403514 ],\n",
              "       [0.9637566 ],\n",
              "       [0.7548832 ],\n",
              "       [0.22131267],\n",
              "       [0.09574381],\n",
              "       [0.32238683],\n",
              "       [0.21287157],\n",
              "       [0.17038444],\n",
              "       [0.9889445 ],\n",
              "       [0.7583711 ],\n",
              "       [0.96978116],\n",
              "       [0.25490674],\n",
              "       [0.18681929],\n",
              "       [0.0498192 ],\n",
              "       [0.4243913 ],\n",
              "       [0.8358297 ],\n",
              "       [0.77556384],\n",
              "       [0.21251237],\n",
              "       [0.7062539 ],\n",
              "       [0.35414734],\n",
              "       [0.36492553],\n",
              "       [0.69409114],\n",
              "       [0.6733292 ],\n",
              "       [0.1387253 ],\n",
              "       [0.11734741],\n",
              "       [0.92281723],\n",
              "       [0.20786023],\n",
              "       [0.72857434],\n",
              "       [0.22626428],\n",
              "       [0.96303046],\n",
              "       [0.1357637 ],\n",
              "       [0.68091124],\n",
              "       [0.44240293],\n",
              "       [0.8749715 ],\n",
              "       [0.3572234 ],\n",
              "       [0.1566595 ],\n",
              "       [0.98071253],\n",
              "       [0.6114748 ],\n",
              "       [0.41574404],\n",
              "       [0.05721452],\n",
              "       [0.26148707],\n",
              "       [0.6800798 ],\n",
              "       [0.6246913 ],\n",
              "       [0.1590301 ],\n",
              "       [0.10623871],\n",
              "       [0.7553104 ],\n",
              "       [0.5548034 ],\n",
              "       [0.89687234],\n",
              "       [0.52577794],\n",
              "       [0.575474  ],\n",
              "       [0.9513335 ],\n",
              "       [0.8930925 ],\n",
              "       [0.23322712],\n",
              "       [0.9028555 ],\n",
              "       [0.17536956],\n",
              "       [0.33742708],\n",
              "       [0.35685092],\n",
              "       [0.8833286 ],\n",
              "       [0.1634572 ],\n",
              "       [0.7587806 ],\n",
              "       [0.36083797],\n",
              "       [0.4158485 ],\n",
              "       [0.1506422 ],\n",
              "       [0.9295175 ],\n",
              "       [0.40543118],\n",
              "       [0.10455845],\n",
              "       [0.16386275],\n",
              "       [0.6415571 ],\n",
              "       [0.2397195 ],\n",
              "       [0.9254726 ],\n",
              "       [0.725298  ],\n",
              "       [0.701017  ],\n",
              "       [0.16780774],\n",
              "       [0.15343428],\n",
              "       [0.9346974 ],\n",
              "       [0.9475644 ],\n",
              "       [0.3576415 ],\n",
              "       [0.64156413],\n",
              "       [0.99354047],\n",
              "       [0.20708378],\n",
              "       [0.31723103],\n",
              "       [0.688445  ],\n",
              "       [0.09859335],\n",
              "       [0.9784158 ],\n",
              "       [0.7733485 ],\n",
              "       [0.5986135 ],\n",
              "       [0.9520902 ],\n",
              "       [0.20337403],\n",
              "       [0.3746053 ],\n",
              "       [0.45203555],\n",
              "       [0.4321266 ],\n",
              "       [0.20837733],\n",
              "       [0.87571585],\n",
              "       [0.9449003 ],\n",
              "       [0.21821733],\n",
              "       [0.5140275 ],\n",
              "       [0.12296241],\n",
              "       [0.45962167],\n",
              "       [0.6645166 ],\n",
              "       [0.6335919 ],\n",
              "       [0.3891877 ],\n",
              "       [0.98495734],\n",
              "       [0.8274744 ],\n",
              "       [0.2773208 ],\n",
              "       [0.22232844],\n",
              "       [0.48512775],\n",
              "       [0.761758  ],\n",
              "       [0.98438823],\n",
              "       [0.5118672 ],\n",
              "       [0.79317915],\n",
              "       [0.28519136],\n",
              "       [0.24509777],\n",
              "       [0.9794889 ],\n",
              "       [0.90297556],\n",
              "       [0.07972007],\n",
              "       [0.1430949 ],\n",
              "       [0.39748365],\n",
              "       [0.93112797],\n",
              "       [0.23571722],\n",
              "       [0.962875  ],\n",
              "       [0.26543063],\n",
              "       [0.18516324],\n",
              "       [0.25354096],\n",
              "       [0.2525027 ],\n",
              "       [0.86032534],\n",
              "       [0.6580422 ],\n",
              "       [0.3947739 ],\n",
              "       [0.59036607],\n",
              "       [0.45109338],\n",
              "       [0.26092884],\n",
              "       [0.23841846],\n",
              "       [0.6890484 ],\n",
              "       [0.98179543],\n",
              "       [0.96769804],\n",
              "       [0.20158413],\n",
              "       [0.85854566],\n",
              "       [0.9061663 ],\n",
              "       [0.9063152 ],\n",
              "       [0.9216428 ],\n",
              "       [0.78894234],\n",
              "       [0.43147567],\n",
              "       [0.90603876],\n",
              "       [0.2451334 ],\n",
              "       [0.6008095 ],\n",
              "       [0.8006083 ],\n",
              "       [0.4236102 ],\n",
              "       [0.2488734 ],\n",
              "       [0.2429057 ],\n",
              "       [0.31407323],\n",
              "       [0.86016923],\n",
              "       [0.09789284],\n",
              "       [0.7191476 ],\n",
              "       [0.30832753],\n",
              "       [0.9242146 ],\n",
              "       [0.16538787],\n",
              "       [0.814389  ]], dtype=float32)"
            ]
          },
          "execution_count": 18,
          "metadata": {},
          "output_type": "execute_result"
        }
      ],
      "source": [
        "# Make predictions with the test data\n",
        "predictions = nn_model_loaded.predict(X_test_scaled,verbose=2)\n",
        "\n",
        "# Display a sample of the predictions\n",
        "predictions"
      ]
    },
    {
      "cell_type": "code",
      "execution_count": 19,
      "metadata": {
        "colab": {
          "base_uri": "https://localhost:8080/",
          "height": 424
        },
        "id": "87o8exFPhjfl",
        "outputId": "da5339c5-cea7-43e4-ec22-e168ea16dfa2"
      },
      "outputs": [
        {
          "data": {
            "text/html": [
              "<div>\n",
              "<style scoped>\n",
              "    .dataframe tbody tr th:only-of-type {\n",
              "        vertical-align: middle;\n",
              "    }\n",
              "\n",
              "    .dataframe tbody tr th {\n",
              "        vertical-align: top;\n",
              "    }\n",
              "\n",
              "    .dataframe thead th {\n",
              "        text-align: right;\n",
              "    }\n",
              "</style>\n",
              "<table border=\"1\" class=\"dataframe\">\n",
              "  <thead>\n",
              "    <tr style=\"text-align: right;\">\n",
              "      <th></th>\n",
              "      <th>predictions</th>\n",
              "    </tr>\n",
              "  </thead>\n",
              "  <tbody>\n",
              "    <tr>\n",
              "      <th>0</th>\n",
              "      <td>1.0</td>\n",
              "    </tr>\n",
              "    <tr>\n",
              "      <th>1</th>\n",
              "      <td>0.0</td>\n",
              "    </tr>\n",
              "    <tr>\n",
              "      <th>2</th>\n",
              "      <td>1.0</td>\n",
              "    </tr>\n",
              "    <tr>\n",
              "      <th>3</th>\n",
              "      <td>1.0</td>\n",
              "    </tr>\n",
              "    <tr>\n",
              "      <th>4</th>\n",
              "      <td>1.0</td>\n",
              "    </tr>\n",
              "    <tr>\n",
              "      <th>...</th>\n",
              "      <td>...</td>\n",
              "    </tr>\n",
              "    <tr>\n",
              "      <th>395</th>\n",
              "      <td>1.0</td>\n",
              "    </tr>\n",
              "    <tr>\n",
              "      <th>396</th>\n",
              "      <td>0.0</td>\n",
              "    </tr>\n",
              "    <tr>\n",
              "      <th>397</th>\n",
              "      <td>1.0</td>\n",
              "    </tr>\n",
              "    <tr>\n",
              "      <th>398</th>\n",
              "      <td>0.0</td>\n",
              "    </tr>\n",
              "    <tr>\n",
              "      <th>399</th>\n",
              "      <td>1.0</td>\n",
              "    </tr>\n",
              "  </tbody>\n",
              "</table>\n",
              "<p>400 rows × 1 columns</p>\n",
              "</div>"
            ],
            "text/plain": [
              "     predictions\n",
              "0            1.0\n",
              "1            0.0\n",
              "2            1.0\n",
              "3            1.0\n",
              "4            1.0\n",
              "..           ...\n",
              "395          1.0\n",
              "396          0.0\n",
              "397          1.0\n",
              "398          0.0\n",
              "399          1.0\n",
              "\n",
              "[400 rows x 1 columns]"
            ]
          },
          "execution_count": 19,
          "metadata": {},
          "output_type": "execute_result"
        }
      ],
      "source": [
        "# Save the predictions to a DataFrame and round the predictions to binary results\n",
        "predictions_df = pd.DataFrame(columns=[\"predictions\"], data=predictions)\n",
        "predictions_df[\"predictions\"] = round(predictions_df[\"predictions\"],0)\n",
        "predictions_df"
      ]
    },
    {
      "cell_type": "markdown",
      "metadata": {
        "id": "oxxLwycg6q62"
      },
      "source": [
        "### Step 4: Display a classification report with the y test data and predictions"
      ]
    },
    {
      "cell_type": "code",
      "execution_count": 20,
      "metadata": {
        "colab": {
          "base_uri": "https://localhost:8080/"
        },
        "id": "UTxYZibW6q67",
        "outputId": "f341b396-9b4c-478c-dba8-f6d904ba10e3"
      },
      "outputs": [
        {
          "name": "stdout",
          "output_type": "stream",
          "text": [
            "              precision    recall  f1-score   support\n",
            "\n",
            "           0       0.73      0.76      0.74       188\n",
            "           1       0.78      0.75      0.76       212\n",
            "\n",
            "    accuracy                           0.75       400\n",
            "   macro avg       0.75      0.75      0.75       400\n",
            "weighted avg       0.75      0.75      0.75       400\n",
            "\n"
          ]
        }
      ],
      "source": [
        "# Print the classification report with the y test data and predictions\n",
        "print(classification_report(y_test, predictions_df[\"predictions\"].values))"
      ]
    },
    {
      "cell_type": "markdown",
      "metadata": {
        "id": "8Aaof1tBtcp6"
      },
      "source": [
        "---\n",
        "## Discuss creating a recommendation system for student loans"
      ]
    },
    {
      "cell_type": "markdown",
      "metadata": {
        "id": "_CC8cNpNtcp6"
      },
      "source": [
        "Briefly answer the following questions in the space provided:\n",
        "\n",
        "1. Describe the data that you would need to collect to build a recommendation system to recommend student loan options for students. Explain why this data would be relevant and appropriate.\n",
        "\n",
        "2. Based on the data you chose to use in this recommendation system, would your model be using collaborative filtering, content-based filtering, or context-based filtering? Justify why the data you selected would be suitable for your choice of filtering method.\n",
        "\n",
        "3. Describe two real-world challenges that you would take into consideration while building a recommendation system for student loans. Explain why these challenges would be of concern for a student loan recommendation system."
      ]
    },
    {
      "cell_type": "markdown",
      "metadata": {
        "id": "5KqIT8kYtcp6"
      },
      "source": [
        "**1. Describe the data that you would need to collect to build a recommendation system to recommend student loan options for students. Explain why this data would be relevant and appropriate.**\n",
        "\n",
        "To build a recommendation system for student loans, we would need to collect the following data:\n",
        "1. Financial Data:\n",
        "    * Income: Knowing how much money the student makes can help determine how much they can afford to borrow and pay back.\n",
        "    * Credit score: This is really important because it affects what kind of loan a student can get, including things like interest rates and repayment terms.\n",
        "    * Existing debts: If the student already has debts, it’s important to know because it will impact their ability to take on more loans.\n",
        "2. Academic Data:\n",
        "    * Field of study: Some fields, like business or engineering, might lead to higher salaries after graduation. This could affect which loan options are best for the student.\n",
        "    * GPA: A higher GPA could mean better job prospects, which might help in qualifying for more favorable loans.\n",
        "    * Expected graduation date: Knowing when the student is graduating helps determine when they should start paying back their loan.\n",
        "3. Loan-specific Data:\n",
        "    * Amount needed: This helps make sure the system recommends loans that match how much the student needs for their education.\n",
        "    * Loan type: There are different types of loans (like federal loans vs. private loans), and the system needs to know which one the student qualifies for.\n",
        "4. Demographic Information:\n",
        "    * Age: Age can help figure out if the student is just starting college, returning for a higher degree, or already in the workforce. This can influence loan options and repayment terms.\n",
        "    * Gender: While gender shouldn’t change the loan options, it’s important to keep track of it to avoid any potential bias in the system.\n",
        "    * Location (City, State): Loan offers can vary depending on where the student is located, so it’s important to know the student’s location.\n",
        "    * Educational background: This includes things like high school GPA and standardized test scores (like SAT or ACT). It helps the system know if the student might be eligible for scholarships or grants, which could lower the amount they need to borrow.\n",
        "\n",
        "\n",
        "**2. Based on the data you chose to use in this recommendation system, would your model be using collaborative filtering, content-based filtering, or context-based filtering? Justify why the data you selected would be suitable for your choice of filtering method.**  \n",
        "\n",
        "Context-based filtering works best here because we are using personal data like the student’s income, credit score, GPA, and even their location.  \n",
        "These factors are all about the individual’s unique situation, so we can make recommendations based on what is best for them specifically. For example, a student who has a high GPA and is studying engineering might get different loan recommendations than someone studying fine arts.  \n",
        "The system can tailor loan options based on the student’s exact profile.\n",
        "\n",
        "**3. Describe two real-world challenges that you would take into consideration while building a recommendation system for student loans. Explain why these challenges would be of concern for a student loan recommendation system.**  \n",
        "1. Data Privacy and Security:\n",
        "    * Since the system will be using sensitive information (like income, credit scores, and other personal details), it’s important to make sure this data is secure. If there’s a data breach, it could lead to identity theft or other issues, which is obviously a huge problem.\n",
        "    * The system must comply with data protection laws like GDPR and CCPA, which ensure that personal data is handled properly. If the data isn’t protected, the system could face legal issues, and students would lose trust in it.\n",
        "2. Bias in Loan Recommendations:\n",
        "    * If the system is trained on biased data (for example, if it reflects unfair lending practices from the past), it could unfairly recommend loans to certain groups of students. This could lead to discrimination, like offering worse loan terms to students based on their race, gender, or other factors.\n",
        "    * It’s important that the system gives everyone a fair chance to get the loan options that are best for them. If the system is biased, it could make the financial gap worse for certain students and prevent them from getting the best loan terms they deserve.\n",
        "Challenges with demographic data: Demographic data like age and gender could be useful, but it also needs to be handled carefully. For example, the system should not unfairly give different loan recommendations based on someone’s age, gender, or location. We need to ensure the system doesn’t make assumptions or reinforce stereotypes, as that would be unfair.\n",
        "\n",
        "These are the main concerns that need to be addressed when building a recommendation system. By keeping these in mind, we can create a system that is fair, secure, and effective for all students.\n",
        "\n"
      ]
    }
  ],
  "metadata": {
    "colab": {
      "provenance": []
    },
    "kernelspec": {
      "display_name": "dev",
      "language": "python",
      "name": "python3"
    },
    "language_info": {
      "codemirror_mode": {
        "name": "ipython",
        "version": 3
      },
      "file_extension": ".py",
      "mimetype": "text/x-python",
      "name": "python",
      "nbconvert_exporter": "python",
      "pygments_lexer": "ipython3",
      "version": "3.10.16"
    }
  },
  "nbformat": 4,
  "nbformat_minor": 0
}
